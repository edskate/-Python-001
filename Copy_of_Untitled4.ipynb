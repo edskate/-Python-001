{
  "nbformat": 4,
  "nbformat_minor": 0,
  "metadata": {
    "colab": {
      "provenance": [],
      "collapsed_sections": [],
      "authorship_tag": "ABX9TyN/TO38vxDu/BGLYy2XyGKt",
      "include_colab_link": true
    },
    "kernelspec": {
      "name": "python3",
      "display_name": "Python 3"
    },
    "language_info": {
      "name": "python"
    }
  },
  "cells": [
    {
      "cell_type": "markdown",
      "metadata": {
        "id": "view-in-github",
        "colab_type": "text"
      },
      "source": [
        "<a href=\"https://colab.research.google.com/github/edskate/-Python-001/blob/main/Copy_of_Untitled4.ipynb\" target=\"_parent\"><img src=\"https://colab.research.google.com/assets/colab-badge.svg\" alt=\"Open In Colab\"/></a>"
      ]
    },
    {
      "cell_type": "code",
      "execution_count": null,
      "metadata": {
        "id": "zWws_Q1SBpEO"
      },
      "outputs": [],
      "source": []
    },
    {
      "cell_type": "markdown",
      "source": [
        "# Lista Do Figurino do show 2022"
      ],
      "metadata": {
        "id": "fEWhwrx4T0-k"
      }
    },
    {
      "cell_type": "markdown",
      "source": [
        "# Lista de Figurinos De Show ."
      ],
      "metadata": {
        "id": "HxbmF2wMBqBW"
      }
    },
    {
      "cell_type": "code",
      "source": [
        "Figurinos =['JAM','Intro,Smooth Criminal','Dangerous','Thriller',]\n",
        "Figurinos"
      ],
      "metadata": {
        "colab": {
          "base_uri": "https://localhost:8080/"
        },
        "id": "dtj8Pjf0B1oH",
        "outputId": "7b5eec04-7ea7-4153-d606-62925db8e9bc"
      },
      "execution_count": 9,
      "outputs": [
        {
          "output_type": "execute_result",
          "data": {
            "text/plain": [
              "['JAM', 'Intro,Smooth Criminal', 'Dangerous', 'Thriller']"
            ]
          },
          "metadata": {},
          "execution_count": 9
        }
      ]
    },
    {
      "cell_type": "code",
      "source": [
        "Acessorios =['Luva jam ','Luva Black white','Bota Bad','Cinto Another part of me']\n",
        "Acessorios"
      ],
      "metadata": {
        "colab": {
          "base_uri": "https://localhost:8080/"
        },
        "id": "O0gDSXxIFabL",
        "outputId": "cc318376-cbb1-4b33-eab5-c20ed7124eba"
      },
      "execution_count": 41,
      "outputs": [
        {
          "output_type": "execute_result",
          "data": {
            "text/plain": [
              "['Luva jam ', 'Luva Black white', 'Bota Bad', 'Cinto Another part of me']"
            ]
          },
          "metadata": {},
          "execution_count": 41
        }
      ]
    },
    {
      "cell_type": "code",
      "source": [
        "Sapato =['Sapato social mocassim 1','calça social 1 ','Camisas Brancas 2']\n",
        "Sapato"
      ],
      "metadata": {
        "colab": {
          "base_uri": "https://localhost:8080/"
        },
        "id": "Ch9xs4m5GA61",
        "outputId": "239d08c5-69aa-478f-fd1a-3f632e3c73d8"
      },
      "execution_count": 1,
      "outputs": [
        {
          "output_type": "execute_result",
          "data": {
            "text/plain": [
              "['Sapato social mocassim 1', 'calça social 1 ', 'Camisas Brancas 2']"
            ]
          },
          "metadata": {},
          "execution_count": 1
        }
      ]
    },
    {
      "cell_type": "code",
      "source": [
        "Figurino_Bad =['Bad jaqueta',' Camisa longa  Another part of me',]\n",
        "Figurino_Bad"
      ],
      "metadata": {
        "colab": {
          "base_uri": "https://localhost:8080/"
        },
        "id": "Nw19CY7uGfCF",
        "outputId": "9f56a7ea-d53b-4e44-9282-73464ac333f2"
      },
      "execution_count": 7,
      "outputs": [
        {
          "output_type": "execute_result",
          "data": {
            "text/plain": [
              "['Bad jaqueta', ' Camisa longa  Another part of me']"
            ]
          },
          "metadata": {},
          "execution_count": 7
        }
      ]
    },
    {
      "cell_type": "code",
      "source": [
        "Acessorios_Bad =[' 3 Cinto Another part of me','Militar cte roupa de lã jaqueta vestimenta']\n",
        "Acessorios_Bad"
      ],
      "metadata": {
        "colab": {
          "base_uri": "https://localhost:8080/"
        },
        "id": "3ccAe-BFHhpN",
        "outputId": "dbe0495a-3306-473c-d7ba-dc198e373e12"
      },
      "execution_count": 2,
      "outputs": [
        {
          "output_type": "execute_result",
          "data": {
            "text/plain": [
              "[' 3 Cinto Another part of me', 'Militar cte roupa de lã jaqueta vestimenta']"
            ]
          },
          "metadata": {},
          "execution_count": 2
        }
      ]
    },
    {
      "cell_type": "markdown",
      "source": [
        "# Figurinos em Contrução"
      ],
      "metadata": {
        "id": "MOck9TQbH6Ui"
      }
    },
    {
      "cell_type": "markdown",
      "source": [],
      "metadata": {
        "id": "JHTlNVaIOuyu"
      }
    },
    {
      "cell_type": "code",
      "source": [
        "Figurino_jam =['Calça jam','Bore amarelo dourado']\n",
        "Figurino_jam"
      ],
      "metadata": {
        "colab": {
          "base_uri": "https://localhost:8080/"
        },
        "id": "f_xvU1T9IC-z",
        "outputId": "ed884b93-a512-4141-f410-ea0bf8c3b7dd"
      },
      "execution_count": 6,
      "outputs": [
        {
          "output_type": "execute_result",
          "data": {
            "text/plain": [
              "['Calça jam', 'Bore amarelo dourado']"
            ]
          },
          "metadata": {},
          "execution_count": 6
        }
      ]
    },
    {
      "cell_type": "code",
      "source": [
        "Figurino_Bad= ['Jaqueta de abertura Wanna Be Startin','Calça com fivelas' ]\n",
        "Figurino_Bad\n"
      ],
      "metadata": {
        "colab": {
          "base_uri": "https://localhost:8080/"
        },
        "id": "cI4u1-C_JCZo",
        "outputId": "f8d862e9-f420-4d4c-eda4-a2e018506852"
      },
      "execution_count": 5,
      "outputs": [
        {
          "output_type": "execute_result",
          "data": {
            "text/plain": [
              "['Jaqueta de abertura Wanna Be Startin', 'Calça com fivelas']"
            ]
          },
          "metadata": {},
          "execution_count": 5
        }
      ]
    },
    {
      "cell_type": "code",
      "source": [],
      "metadata": {
        "id": "nDSsV3UzJ4Mj"
      },
      "execution_count": null,
      "outputs": []
    },
    {
      "cell_type": "markdown",
      "source": [
        "# Operar Listas De Figurinos :"
      ],
      "metadata": {
        "id": "xwBv2zeBOxDR"
      }
    },
    {
      "cell_type": "code",
      "source": [
        "Acessorios"
      ],
      "metadata": {
        "colab": {
          "base_uri": "https://localhost:8080/"
        },
        "id": "I3J4lTGcRPIE",
        "outputId": "f7e09e2d-d433-4c25-f6cd-78dd388b0a67"
      },
      "execution_count": 33,
      "outputs": [
        {
          "output_type": "execute_result",
          "data": {
            "text/plain": [
              "['Luva jam ', 'Luva Black white']"
            ]
          },
          "metadata": {},
          "execution_count": 33
        }
      ]
    },
    {
      "cell_type": "code",
      "source": [
        "'Luva jam ' in Acessorios"
      ],
      "metadata": {
        "colab": {
          "base_uri": "https://localhost:8080/"
        },
        "id": "XlTLLIWrR1dc",
        "outputId": "9b854e0b-6ddc-4314-fa44-47cbca6062ab"
      },
      "execution_count": 34,
      "outputs": [
        {
          "output_type": "execute_result",
          "data": {
            "text/plain": [
              "True"
            ]
          },
          "metadata": {},
          "execution_count": 34
        }
      ]
    },
    {
      "cell_type": "code",
      "source": [
        "'Bota Bad' in Acessorios"
      ],
      "metadata": {
        "colab": {
          "base_uri": "https://localhost:8080/"
        },
        "id": "O1RlIw6dR69A",
        "outputId": "dc647021-3bbe-4ccb-f545-f058941d008d"
      },
      "execution_count": 40,
      "outputs": [
        {
          "output_type": "execute_result",
          "data": {
            "text/plain": [
              "True"
            ]
          },
          "metadata": {},
          "execution_count": 40
        }
      ]
    },
    {
      "cell_type": "code",
      "source": [
        "'Cinto Another part of me' in Acessorios"
      ],
      "metadata": {
        "colab": {
          "base_uri": "https://localhost:8080/"
        },
        "id": "Kdaf3c-YSIng",
        "outputId": "a4da5d9e-8795-47d8-e754-c7f6ba8f3f92"
      },
      "execution_count": 42,
      "outputs": [
        {
          "output_type": "execute_result",
          "data": {
            "text/plain": [
              "True"
            ]
          },
          "metadata": {},
          "execution_count": 42
        }
      ]
    },
    {
      "cell_type": "code",
      "source": [],
      "metadata": {
        "id": "xkWQ1MPtTmni"
      },
      "execution_count": null,
      "outputs": []
    }
  ]
}